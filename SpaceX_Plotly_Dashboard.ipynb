{
  "nbformat": 4,
  "nbformat_minor": 0,
  "metadata": {
    "colab": {
      "name": "SpaceX_Plotly_Dashboard.ipynb",
      "provenance": [],
      "collapsed_sections": [],
      "authorship_tag": "ABX9TyNyI1Xp77i+GHXyb1oBtecF",
      "include_colab_link": true
    },
    "kernelspec": {
      "name": "python3",
      "display_name": "Python 3"
    },
    "language_info": {
      "name": "python"
    }
  },
  "cells": [
    {
      "cell_type": "markdown",
      "metadata": {
        "id": "view-in-github",
        "colab_type": "text"
      },
      "source": [
        "<a href=\"https://colab.research.google.com/github/ZoriktoGitHub/Coursera_Capstone_Project/blob/main/SpaceX_Plotly_Dashboard.ipynb\" target=\"_parent\"><img src=\"https://colab.research.google.com/assets/colab-badge.svg\" alt=\"Open In Colab\"/></a>"
      ]
    },
    {
      "cell_type": "code",
      "source": [
        "!pip install dash"
      ],
      "metadata": {
        "colab": {
          "base_uri": "https://localhost:8080/"
        },
        "id": "13j41z9wK1FS",
        "outputId": "6d8fb7a5-5049-415f-c66a-98175ac6e911"
      },
      "execution_count": 1,
      "outputs": [
        {
          "output_type": "stream",
          "name": "stdout",
          "text": [
            "Looking in indexes: https://pypi.org/simple, https://us-python.pkg.dev/colab-wheels/public/simple/\n",
            "Requirement already satisfied: dash in /usr/local/lib/python3.7/dist-packages (2.5.1)\n",
            "Requirement already satisfied: dash-core-components==2.0.0 in /usr/local/lib/python3.7/dist-packages (from dash) (2.0.0)\n",
            "Requirement already satisfied: Flask>=1.0.4 in /usr/local/lib/python3.7/dist-packages (from dash) (1.1.4)\n",
            "Requirement already satisfied: dash-html-components==2.0.0 in /usr/local/lib/python3.7/dist-packages (from dash) (2.0.0)\n",
            "Requirement already satisfied: plotly>=5.0.0 in /usr/local/lib/python3.7/dist-packages (from dash) (5.5.0)\n",
            "Requirement already satisfied: flask-compress in /usr/local/lib/python3.7/dist-packages (from dash) (1.12)\n",
            "Requirement already satisfied: dash-table==5.0.0 in /usr/local/lib/python3.7/dist-packages (from dash) (5.0.0)\n",
            "Requirement already satisfied: Jinja2<3.0,>=2.10.1 in /usr/local/lib/python3.7/dist-packages (from Flask>=1.0.4->dash) (2.11.3)\n",
            "Requirement already satisfied: Werkzeug<2.0,>=0.15 in /usr/local/lib/python3.7/dist-packages (from Flask>=1.0.4->dash) (1.0.1)\n",
            "Requirement already satisfied: itsdangerous<2.0,>=0.24 in /usr/local/lib/python3.7/dist-packages (from Flask>=1.0.4->dash) (1.1.0)\n",
            "Requirement already satisfied: click<8.0,>=5.1 in /usr/local/lib/python3.7/dist-packages (from Flask>=1.0.4->dash) (7.1.2)\n",
            "Requirement already satisfied: MarkupSafe>=0.23 in /usr/local/lib/python3.7/dist-packages (from Jinja2<3.0,>=2.10.1->Flask>=1.0.4->dash) (2.0.1)\n",
            "Requirement already satisfied: six in /usr/local/lib/python3.7/dist-packages (from plotly>=5.0.0->dash) (1.15.0)\n",
            "Requirement already satisfied: tenacity>=6.2.0 in /usr/local/lib/python3.7/dist-packages (from plotly>=5.0.0->dash) (8.0.1)\n",
            "Requirement already satisfied: brotli in /usr/local/lib/python3.7/dist-packages (from flask-compress->dash) (1.0.9)\n"
          ]
        }
      ]
    },
    {
      "cell_type": "code",
      "source": [
        "from google.colab.output import eval_js\n",
        "print(eval_js(\"google.colab.kernel.proxyPort(5000)\"))"
      ],
      "metadata": {
        "colab": {
          "base_uri": "https://localhost:8080/",
          "height": 34
        },
        "id": "X03A84SvL5or",
        "outputId": "f5811405-f621-4e70-f36e-57aa8f32eca7"
      },
      "execution_count": 2,
      "outputs": [
        {
          "output_type": "stream",
          "name": "stdout",
          "text": [
            "https://j0ol0iuuv3s-496ff2e9c6d22116-5001-colab.googleusercontent.com/\n"
          ]
        }
      ]
    },
    {
      "cell_type": "code",
      "execution_count": 3,
      "metadata": {
        "colab": {
          "base_uri": "https://localhost:8080/"
        },
        "id": "fmVJsPK0QOMl",
        "outputId": "78f32a65-6044-498f-d6fd-fa3ddc90283f"
      },
      "outputs": [
        {
          "output_type": "stream",
          "name": "stderr",
          "text": [
            "/usr/local/lib/python3.7/dist-packages/ipykernel_launcher.py:4: UserWarning: \n",
            "The dash_html_components package is deprecated. Please replace\n",
            "`import dash_html_components as html` with `from dash import html`\n",
            "  after removing the cwd from sys.path.\n",
            "/usr/local/lib/python3.7/dist-packages/ipykernel_launcher.py:5: UserWarning: \n",
            "The dash_core_components package is deprecated. Please replace\n",
            "`import dash_core_components as dcc` with `from dash import dcc`\n",
            "  \"\"\"\n"
          ]
        },
        {
          "output_type": "stream",
          "name": "stdout",
          "text": [
            "Dash is running on http://127.0.0.1:5001/\n",
            "\n",
            " * Serving Flask app \"__main__\" (lazy loading)\n",
            " * Environment: production\n",
            "\u001b[31m   WARNING: This is a development server. Do not use it in a production deployment.\u001b[0m\n",
            "\u001b[2m   Use a production WSGI server instead.\u001b[0m\n",
            " * Debug mode: off\n"
          ]
        },
        {
          "output_type": "stream",
          "name": "stderr",
          "text": [
            " * Running on http://127.0.0.1:5001/ (Press CTRL+C to quit)\n"
          ]
        }
      ],
      "source": [
        "# Import required libraries\n",
        "import pandas as pd\n",
        "import dash\n",
        "import dash_html_components as html\n",
        "import dash_core_components as dcc\n",
        "from dash.dependencies import Input, Output\n",
        "import plotly.express as px\n",
        "\n",
        "# Read the airline data into pandas dataframe\n",
        "spacex_df = pd.read_csv(\"https://cf-courses-data.s3.us.cloud-object-storage.appdomain.cloud/IBM-DS0321EN-SkillsNetwork/datasets/spacex_launch_dash.csv\")\n",
        "spacex_df = spacex_df.drop(['Unnamed: 0'],axis=1)\n",
        "max_payload = spacex_df['Payload Mass (kg)'].max()\n",
        "min_payload = spacex_df['Payload Mass (kg)'].min()\n",
        "spacex_df.columns = [i.replace(' ','_') for i in spacex_df.columns]\n",
        "Sites_list = [i for i in spacex_df.Launch_Site.unique()]\n",
        "\n",
        "# Create a dash application\n",
        "app = dash.Dash(__name__)\n",
        "app.config.suppress_callback_exceptions = True\n",
        "# Create an app layout\n",
        "app.layout = html.Div(children=[html.H1('SpaceX Launch Records Dashboard',\n",
        "                                        style={'textAlign': 'center', 'color': '#503D36',\n",
        "                                               'font-size': 40}),\n",
        "                                # The default select value is for ALL sites\n",
        "                                dcc.Dropdown(id='site-dropdown',\n",
        "                                             options=[\n",
        "                                                      {'label':'All Sites', 'value':'Allsite'},\n",
        "                                                      {'label': 'CCAFS LC-40', 'value': 'CCAFS LC-40'},\n",
        "                                                      {'label': 'VAFB SLC-4E', 'value': 'VAFB SLC-4E'},\n",
        "                                                      {'label': 'KSC LC-39A', 'value': 'KSC LC-39A'},\n",
        "                                                      {'label': 'CCAFS SLC-40', 'value': 'CCAFS SLC-40'}],\n",
        "                                             value='Allsite',   \n",
        "                                             placeholder='Select a Launch Site here',\n",
        "                                             searchable= True,\n",
        "                                             style={'width':'100%','padding':'3px','font size':'20px','text-align':'center'}\n",
        "                                ),              \n",
        "                                html.Br(),\n",
        "                                # If a specific launch site was selected, show the Success vs. Failed counts for the site\n",
        "                                html.Div(dcc.Graph(id='success-pie-chart')),\n",
        "                                html.Br(),\n",
        "\n",
        "                                html.P(\"Payload range (Kg):\"),\n",
        "                                dcc.RangeSlider(id='payload-slider',\n",
        "                                                min=0,\n",
        "                                                max=10000,\n",
        "                                                step=1000,\n",
        "                                                value=[1000, 5000],\n",
        "                                                marks={0:'0', 2000:'2000', 4000:'4000', 6000:'6000', 8000:'8000', 10000:'10000'}\n",
        "                                ),\n",
        "                                html.Div(dcc.Graph(id='success-payload-scatter-chart')),\n",
        "                                ])\n",
        "\n",
        "# Add a callback function for `site-dropdown` as input, `success-pie-chart` as output\n",
        "@app.callback( \n",
        "    Output(component_id='success-pie-chart', component_property='figure'),\n",
        "    Input(component_id='site-dropdown', component_property='value'))\n",
        "\n",
        "def get_graph (select):\n",
        "    if select == 'Allsite':\n",
        "       fig = px.pie(spacex_df, values='class', names='Launch_Site', title='Success Rate by Launch Sites', color_discrete_sequence=px.colors.qualitative.Set3)\n",
        "#color_discrete_map={'CCAFS LC-40':'lightcyan','VAFB SLC-4E':'cyan','KSC LC-39A':'royalblue','CCAFS SLC-40':'darkblue'})\n",
        "       return fig        \n",
        "    else:\n",
        "        f_data = spacex_df[spacex_df['Launch_Site'] == select]\n",
        "        f_data = f_data['Launch_Site'].groupby(spacex_df['class']).count().reset_index()\n",
        "        fig = px.pie(f_data, values='Launch_Site', names='class', title='Success Rate by Launch Sites', \n",
        "                     color_discrete_sequence=px.colors.sequential.Bluered) \n",
        "        fig.update_layout(uniformtext_minsize=20, uniformtext_mode='hide')\n",
        "        return fig \n",
        "\n",
        "# Add a callback function for `site-dropdown` and `payload-slider` as inputs, `success-payload-scatter-chart` as output\n",
        "@app.callback( \n",
        "    Output(component_id='success-payload-scatter-chart', component_property='figure'),\n",
        "    Input(component_id='site-dropdown', component_property='value'),\n",
        "    Input(component_id='payload-slider', component_property='value'))\n",
        "\n",
        "def get_graf (select, Range):\n",
        "    low, high = Range\n",
        "    scatt_data = spacex_df[spacex_df['Payload_Mass_(kg)'].apply(lambda x : x > low and x < high)].reset_index()\n",
        "    if select == 'Allsite':\n",
        "        scatt_fig = px.scatter(scatt_data, x= 'Payload_Mass_(kg)', y='class', color='Booster_Version',\n",
        "                               title='Success correlation by Payload Mass & BoosterVersion')\n",
        "        return scatt_fig\n",
        "    else:\n",
        "        scatt_data = scatt_data[spacex_df['Launch_Site']== select].reset_index()\n",
        "        scatt_data = scatt_data.groupby(['Launch_Site','class', 'Booster_Version'])['Payload_Mass_(kg)'].sum().reset_index()\n",
        "        scatt_fig = px.scatter(scatt_data, x= 'Payload_Mass_(kg)', y='class', color='Booster_Version',\n",
        "                               title='Success correlation by Payload Mass & BoosterVersion')\n",
        "        return scatt_fig            \n",
        "\n",
        "# Run the app\n",
        "if __name__ == '__main__':\n",
        "  app.run_server(debug=False, port = 5000)"
      ]
    },
    {
      "cell_type": "code",
      "source": [
        ""
      ],
      "metadata": {
        "id": "_3IChLlcQR8D"
      },
      "execution_count": null,
      "outputs": []
    }
  ]
}